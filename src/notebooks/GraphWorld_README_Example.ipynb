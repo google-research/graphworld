{
 "cells": [
  {
   "cell_type": "code",
   "execution_count": null,
   "id": "bf0cd1a6",
   "metadata": {},
   "outputs": [],
   "source": [
    "# Imports\n",
    "import json\n",
    "import os\n",
    "\n",
    "import numpy as np\n",
    "import pandas as pd"
   ]
  },
  {
   "cell_type": "code",
   "execution_count": 1,
   "id": "07b735da",
   "metadata": {},
   "outputs": [],
   "source": [
    "# Constants\n",
    "NSHARDS = 10\n",
    "RESULTS_DIR = '/tmp/mwe'\n",
    "LOCALDIR = '/tmp'\n",
    "\n",
    "MODELS = ['GCN', 'GraphSAGE', 'SGC', 'MLP']\n",
    "METRIC = 'test_rocauc_ovr'"
   ]
  },
  {
   "cell_type": "code",
   "execution_count": null,
   "id": "d647c92a",
   "metadata": {},
   "outputs": [],
   "source": [
    "dfs = []\n",
    "for shard_idx in range(NSHARDS):\n",
    "  filename = 'results.ndjson-%s-of-%s' % (str(shard_idx).zfill(5), str(NSHARDS).zfill(5))\n",
    "  print(filename)\n",
    "\n",
    "  with open(f'{RESULTS_DIR}/{filename}', 'r') as f:\n",
    "    lines = f.readlines()\n",
    "    records = map(json.loads, lines)\n",
    "    dfs.append(pd.DataFrame.from_records(records))\n",
    "\n",
    "# Construct df and remove nans\n",
    "results_df = pd.concat(dfs)\n",
    "results_df.drop(['marginal_param', 'fixed_params'], axis=1, inplace=True)\n",
    "results_df.dropna(axis=0, inplace=True)\n",
    "del dfs"
   ]
  },
  {
   "cell_type": "code",
   "execution_count": null,
   "id": "11bb7184",
   "metadata": {},
   "outputs": [],
   "source": [
    "# Function for 1D lineplot\n",
    "from mpl_toolkits.mplot3d import Axes3D\n",
    "import matplotlib.pyplot as plt\n",
    "import pandas as pd\n",
    "import seaborn as sns\n",
    "import numpy as np\n",
    "\n",
    "def bucket_response_surface1d(results_df, xvar, metric='test_accuracy',\n",
    "                              group=False, ngrid=25, custom_range=None):\n",
    "  # BAD_VALS = [np.nan, np.inf, -np.inf]\n",
    "  # results_df_inner = results_df[~results_df.isin(BAD_VALS).any(1)]\n",
    "  results_df_inner = results_df.copy(deep=True)\n",
    "  if custom_range is None:\n",
    "    min_xvar = np.min(results_df_inner[xvar])\n",
    "    max_xvar = np.max(results_df_inner[xvar])\n",
    "  else:\n",
    "    min_xvar = custom_range[0]\n",
    "    max_xvar = custom_range[1]\n",
    "  xrange = np.linspace(min_xvar, max_xvar, ngrid)\n",
    "  def convert_value(z, range):\n",
    "    return range[np.argmin(np.abs(range - z))]\n",
    "  results_df_inner[xvar] = results_df_inner[xvar].apply(convert_value,\n",
    "                                                        range=xrange)\n",
    "  if group:\n",
    "    return results_df_inner.groupby([xvar])[[xvar, metric]].mean()\n",
    "  else:\n",
    "    return results_df_inner\n",
    "\n",
    "def plot_response_surface1d(param, metric, results_df,\n",
    "                            models=MODELS,\n",
    "                            reverse_x=False, ci=99):\n",
    "  bucketed_dfs = []\n",
    "  index_pos = 0\n",
    "  grouped_index_pos = 0\n",
    "  grouped_bucketed_dfs = []\n",
    "  for model in models:\n",
    "    model_metric = '%s__%s' % (model, metric)\n",
    "    if model_metric not in results_df.columns:\n",
    "      continue\n",
    "\n",
    "    # Get and store ungrouped bucketed df\n",
    "    bucketed_df = bucket_response_surface1d(results_df, param,\n",
    "                                            metric=model_metric,\n",
    "                                            group=False)\n",
    "    bucketed_df = bucketed_df.rename(columns={model_metric: metric})\n",
    "    bucketed_df['model'] = model\n",
    "    new_index = list(range(index_pos, index_pos + bucketed_df.shape[0]))\n",
    "    bucketed_df.index = new_index\n",
    "    bucketed_dfs.append(bucketed_df)\n",
    "    index_pos += bucketed_df.shape[0]\n",
    "\n",
    "    # Get and store grouped bucketed df\n",
    "    grouped_bucketed_df = bucket_response_surface1d(results_df, param,\n",
    "                                                    metric=model_metric,\n",
    "                                                    group=True)\n",
    "    grouped_bucketed_df = grouped_bucketed_df.rename(\n",
    "        columns={model_metric: metric})\n",
    "    grouped_bucketed_df['model'] = model\n",
    "    grouped_new_index = list(range(\n",
    "        grouped_index_pos, grouped_index_pos + grouped_bucketed_df.shape[0]))\n",
    "    grouped_bucketed_df.index = grouped_new_index\n",
    "    grouped_bucketed_dfs.append(grouped_bucketed_df)\n",
    "    grouped_index_pos += grouped_bucketed_df.shape[0]\n",
    "\n",
    "    \n",
    "    \n",
    "  plot_df = pd.concat(bucketed_dfs, axis=0)\n",
    "\n",
    "  # Make the plot\n",
    "  fig = plt.figure(figsize=(10, 10))\n",
    "\n",
    "  range_x = (np.min(results_df[param]), np.max(results_df[param]))\n",
    "  if reverse_x:\n",
    "    range_x = (range_x[1], range_x[0])\n",
    "\n",
    "  sns.lineplot(data=plot_df, x=param, y=metric, hue=\"model\", ci=ci)\n",
    "  plt.title('%s vs %s' % (metric, param))\n",
    "  plt.show()"
   ]
  },
  {
   "cell_type": "code",
   "execution_count": null,
   "id": "4c993a10",
   "metadata": {},
   "outputs": [],
   "source": [
    "plot_response_surface1d('p_to_q_ratio', METRIC, results_df)"
   ]
  }
 ],
 "metadata": {
  "kernelspec": {
   "display_name": "Python 3.10.4 64-bit",
   "language": "python",
   "name": "python3"
  },
  "language_info": {
   "codemirror_mode": {
    "name": "ipython",
    "version": 3
   },
   "file_extension": ".py",
   "mimetype": "text/x-python",
   "name": "python",
   "nbconvert_exporter": "python",
   "pygments_lexer": "ipython3",
   "version": "3.10.4"
  },
  "vscode": {
   "interpreter": {
    "hash": "3ad933181bd8a04b432d3370b9dc3b0662ad032c4dfaa4e4f1596c548f763858"
   }
  }
 },
 "nbformat": 4,
 "nbformat_minor": 5
}
