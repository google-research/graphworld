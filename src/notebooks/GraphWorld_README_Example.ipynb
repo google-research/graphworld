{
 "cells": [
  {
   "cell_type": "code",
   "execution_count": null,
   "id": "bf0cd1a6",
   "metadata": {},
   "outputs": [],
   "source": [
    "# Imports\n",
    "import json\n",
    "import os\n",
    "\n",
    "import numpy as np\n",
    "import pandas as pd"
   ]
  },
  {
   "cell_type": "code",
   "execution_count": 1,
   "id": "07b735da",
   "metadata": {},
   "outputs": [],
   "source": [
    "# Constants\n",
    "NSHARDS = 10\n",
    "RESULTS_DIR = '/tmp/mwe'\n",
    "LOCALDIR = '/tmp'\n",
    "\n",
    "MODELS = ['GCN', 'GraphSAGE', 'SGC', 'MLP']\n",
    "METRIC = 'test_rocauc_ovr'"
   ]
  },
  {
   "cell_type": "code",
   "execution_count": 2,
   "id": "d647c92a",
   "metadata": {},
   "outputs": [
    {
     "name": "stdout",
     "output_type": "stream",
     "text": [
      "results.ndjson-00000-of-00010\n"
     ]
    },
    {
     "ename": "PermissionError",
     "evalue": "[Errno 13] Permission denied: '/tmp/mwe/results.ndjson-00000-of-00010'",
     "output_type": "error",
     "traceback": [
      "\u001b[0;31m---------------------------------------------------------------------------\u001b[0m",
      "\u001b[0;31mPermissionError\u001b[0m                           Traceback (most recent call last)",
      "Cell \u001b[0;32mIn [2], line 6\u001b[0m\n\u001b[1;32m      3\u001b[0m filename \u001b[39m=\u001b[39m \u001b[39m'\u001b[39m\u001b[39mresults.ndjson-\u001b[39m\u001b[39m%s\u001b[39;00m\u001b[39m-of-\u001b[39m\u001b[39m%s\u001b[39;00m\u001b[39m'\u001b[39m \u001b[39m%\u001b[39m (\u001b[39mstr\u001b[39m(shard_idx)\u001b[39m.\u001b[39mzfill(\u001b[39m5\u001b[39m), \u001b[39mstr\u001b[39m(NSHARDS)\u001b[39m.\u001b[39mzfill(\u001b[39m5\u001b[39m))\n\u001b[1;32m      4\u001b[0m \u001b[39mprint\u001b[39m(filename)\n\u001b[0;32m----> 6\u001b[0m \u001b[39mwith\u001b[39;00m \u001b[39mopen\u001b[39;49m(\u001b[39mf\u001b[39;49m\u001b[39m'\u001b[39;49m\u001b[39m{\u001b[39;49;00mRESULTS_DIR\u001b[39m}\u001b[39;49;00m\u001b[39m/\u001b[39;49m\u001b[39m{\u001b[39;49;00mfilename\u001b[39m}\u001b[39;49;00m\u001b[39m'\u001b[39;49m, \u001b[39m'\u001b[39;49m\u001b[39mr\u001b[39;49m\u001b[39m'\u001b[39;49m) \u001b[39mas\u001b[39;00m f:\n\u001b[1;32m      7\u001b[0m   lines \u001b[39m=\u001b[39m f\u001b[39m.\u001b[39mreadlines()\n\u001b[1;32m      8\u001b[0m   records \u001b[39m=\u001b[39m \u001b[39mmap\u001b[39m(json\u001b[39m.\u001b[39mloads, lines)\n",
      "File \u001b[0;32m~/.local/lib/python3.10/site-packages/IPython/core/interactiveshell.py:282\u001b[0m, in \u001b[0;36m_modified_open\u001b[0;34m(file, *args, **kwargs)\u001b[0m\n\u001b[1;32m    275\u001b[0m \u001b[39mif\u001b[39;00m file \u001b[39min\u001b[39;00m {\u001b[39m0\u001b[39m, \u001b[39m1\u001b[39m, \u001b[39m2\u001b[39m}:\n\u001b[1;32m    276\u001b[0m     \u001b[39mraise\u001b[39;00m \u001b[39mValueError\u001b[39;00m(\n\u001b[1;32m    277\u001b[0m         \u001b[39mf\u001b[39m\u001b[39m\"\u001b[39m\u001b[39mIPython won\u001b[39m\u001b[39m'\u001b[39m\u001b[39mt let you open fd=\u001b[39m\u001b[39m{\u001b[39;00mfile\u001b[39m}\u001b[39;00m\u001b[39m by default \u001b[39m\u001b[39m\"\u001b[39m\n\u001b[1;32m    278\u001b[0m         \u001b[39m\"\u001b[39m\u001b[39mas it is likely to crash IPython. If you know what you are doing, \u001b[39m\u001b[39m\"\u001b[39m\n\u001b[1;32m    279\u001b[0m         \u001b[39m\"\u001b[39m\u001b[39myou can use builtins\u001b[39m\u001b[39m'\u001b[39m\u001b[39m open.\u001b[39m\u001b[39m\"\u001b[39m\n\u001b[1;32m    280\u001b[0m     )\n\u001b[0;32m--> 282\u001b[0m \u001b[39mreturn\u001b[39;00m io_open(file, \u001b[39m*\u001b[39;49margs, \u001b[39m*\u001b[39;49m\u001b[39m*\u001b[39;49mkwargs)\n",
      "\u001b[0;31mPermissionError\u001b[0m: [Errno 13] Permission denied: '/tmp/mwe/results.ndjson-00000-of-00010'"
     ]
    }
   ],
   "source": [
    "dfs = []\n",
    "for shard_idx in range(NSHARDS):\n",
    "  filename = 'results.ndjson-%s-of-%s' % (str(shard_idx).zfill(5), str(NSHARDS).zfill(5))\n",
    "  print(filename)\n",
    "\n",
    "  with open(f'{RESULTS_DIR}/{filename}', 'r') as f:\n",
    "    lines = f.readlines()\n",
    "    records = map(json.loads, lines)\n",
    "    dfs.append(pd.DataFrame.from_records(records))\n",
    "\n",
    "# Construct df and remove nans\n",
    "results_df = pd.concat(dfs)\n",
    "results_df.drop(['marginal_param', 'fixed_params'], axis=1, inplace=True)\n",
    "results_df.dropna(axis=0, inplace=True)\n",
    "del dfs"
   ]
  },
  {
   "cell_type": "code",
   "execution_count": null,
   "id": "11bb7184",
   "metadata": {},
   "outputs": [],
   "source": [
    "# Function for 1D lineplot\n",
    "from mpl_toolkits.mplot3d import Axes3D\n",
    "import matplotlib.pyplot as plt\n",
    "import pandas as pd\n",
    "import seaborn as sns\n",
    "import numpy as np\n",
    "\n",
    "def bucket_response_surface1d(results_df, xvar, metric='test_accuracy',\n",
    "                              group=False, ngrid=25, custom_range=None):\n",
    "  # BAD_VALS = [np.nan, np.inf, -np.inf]\n",
    "  # results_df_inner = results_df[~results_df.isin(BAD_VALS).any(1)]\n",
    "  results_df_inner = results_df.copy(deep=True)\n",
    "  if custom_range is None:\n",
    "    min_xvar = np.min(results_df_inner[xvar])\n",
    "    max_xvar = np.max(results_df_inner[xvar])\n",
    "  else:\n",
    "    min_xvar = custom_range[0]\n",
    "    max_xvar = custom_range[1]\n",
    "  xrange = np.linspace(min_xvar, max_xvar, ngrid)\n",
    "  def convert_value(z, range):\n",
    "    return range[np.argmin(np.abs(range - z))]\n",
    "  results_df_inner[xvar] = results_df_inner[xvar].apply(convert_value,\n",
    "                                                        range=xrange)\n",
    "  if group:\n",
    "    return results_df_inner.groupby([xvar])[[xvar, metric]].mean()\n",
    "  else:\n",
    "    return results_df_inner\n",
    "\n",
    "def plot_response_surface1d(param, metric, results_df,\n",
    "                            models=MODELS,\n",
    "                            reverse_x=False, ci=99):\n",
    "  bucketed_dfs = []\n",
    "  index_pos = 0\n",
    "  grouped_index_pos = 0\n",
    "  grouped_bucketed_dfs = []\n",
    "  for model in models:\n",
    "    model_metric = '%s__%s' % (model, metric)\n",
    "    if model_metric not in results_df.columns:\n",
    "      continue\n",
    "\n",
    "    # Get and store ungrouped bucketed df\n",
    "    bucketed_df = bucket_response_surface1d(results_df, param,\n",
    "                                            metric=model_metric,\n",
    "                                            group=False)\n",
    "    bucketed_df = bucketed_df.rename(columns={model_metric: metric})\n",
    "    bucketed_df['model'] = model\n",
    "    new_index = list(range(index_pos, index_pos + bucketed_df.shape[0]))\n",
    "    bucketed_df.index = new_index\n",
    "    bucketed_dfs.append(bucketed_df)\n",
    "    index_pos += bucketed_df.shape[0]\n",
    "\n",
    "    # Get and store grouped bucketed df\n",
    "    grouped_bucketed_df = bucket_response_surface1d(results_df, param,\n",
    "                                                    metric=model_metric,\n",
    "                                                    group=True)\n",
    "    grouped_bucketed_df = grouped_bucketed_df.rename(\n",
    "        columns={model_metric: metric})\n",
    "    grouped_bucketed_df['model'] = model\n",
    "    grouped_new_index = list(range(\n",
    "        grouped_index_pos, grouped_index_pos + grouped_bucketed_df.shape[0]))\n",
    "    grouped_bucketed_df.index = grouped_new_index\n",
    "    grouped_bucketed_dfs.append(grouped_bucketed_df)\n",
    "    grouped_index_pos += grouped_bucketed_df.shape[0]\n",
    "\n",
    "    \n",
    "    \n",
    "  plot_df = pd.concat(bucketed_dfs, axis=0)\n",
    "\n",
    "  # Make the plot\n",
    "  fig = plt.figure(figsize=(10, 10))\n",
    "\n",
    "  range_x = (np.min(results_df[param]), np.max(results_df[param]))\n",
    "  if reverse_x:\n",
    "    range_x = (range_x[1], range_x[0])\n",
    "\n",
    "  sns.lineplot(data=plot_df, x=param, y=metric, hue=\"model\", ci=ci)\n",
    "  plt.title('%s vs %s' % (metric, param))\n",
    "  plt.show()"
   ]
  },
  {
   "cell_type": "code",
   "execution_count": null,
   "id": "4c993a10",
   "metadata": {},
   "outputs": [],
   "source": [
    "plot_response_surface1d('p_to_q_ratio', METRIC, results_df)"
   ]
  }
 ],
 "metadata": {
  "kernelspec": {
   "display_name": "Python 3.10.4 64-bit",
   "language": "python",
   "name": "python3"
  },
  "language_info": {
   "codemirror_mode": {
    "name": "ipython",
    "version": 3
   },
   "file_extension": ".py",
   "mimetype": "text/x-python",
   "name": "python",
   "nbconvert_exporter": "python",
   "pygments_lexer": "ipython3",
   "version": "3.10.4"
  },
  "vscode": {
   "interpreter": {
    "hash": "3ad933181bd8a04b432d3370b9dc3b0662ad032c4dfaa4e4f1596c548f763858"
   }
  }
 },
 "nbformat": 4,
 "nbformat_minor": 5
}
